{
 "cells": [
  {
   "cell_type": "code",
   "execution_count": 1,
   "id": "8a5866ae",
   "metadata": {},
   "outputs": [],
   "source": [
    "import pandas as pd\n",
    "\n",
    "# Assume you’ve run your generator and saved to CSV:\n",
    "df = pd.read_csv(\"Training_Dataset.csv\")\n",
    "\n",
    "# Drop the columns we won’t use for anomaly detection:\n",
    "#  - identifiers and long text\n",
    "#  - approval_flag & coverage_amount (we’re unsupervised)\n",
    "X = df.drop(columns=[\n",
    "    \"ic_number\",\n",
    "    \"claim_description\",\n",
    "    \"customer_background\",\n",
    "    \"approval_flag\",\n",
    "    \"coverage_amount\"\n",
    "])"
   ]
  },
  {
   "cell_type": "code",
   "execution_count": 2,
   "id": "236e550c",
   "metadata": {},
   "outputs": [],
   "source": [
    "from sklearn.preprocessing import StandardScaler, OneHotEncoder\n",
    "from sklearn.compose import ColumnTransformer\n",
    "\n",
    "numeric_features = [\n",
    "    \"age\", \"months_as_customer\", \"vehicle_age_years\",\n",
    "    \"policy_expired_flag\", \"deductible_amount\", \"market_value\",\n",
    "    \"damage_severity_score\", \"repair_amount\", \"at_fault_flag\",\n",
    "    \"time_to_report_days\", \"claim_reported_to_police_flag\",\n",
    "    \"license_type_missing_flag\", \"num_third_parties\", \"num_witnesses\"\n",
    "]\n",
    "categorical_features = [\"vehicle_make\"]\n",
    "\n",
    "preprocessor = ColumnTransformer([\n",
    "    (\"num\", StandardScaler(), numeric_features),\n",
    "    (\"cat\", OneHotEncoder(drop=\"first\", sparse=False), categorical_features),\n",
    "])\n"
   ]
  },
  {
   "cell_type": "code",
   "execution_count": 4,
   "id": "b253e2c7",
   "metadata": {},
   "outputs": [
    {
     "name": "stderr",
     "output_type": "stream",
     "text": [
      "C:\\Users\\Acer\\AppData\\Local\\Programs\\Python\\Python39\\lib\\site-packages\\sklearn\\preprocessing\\_encoders.py:975: FutureWarning: `sparse` was renamed to `sparse_output` in version 1.2 and will be removed in 1.4. `sparse_output` is ignored unless you leave `sparse` to its default value.\n",
      "  warnings.warn(\n"
     ]
    },
    {
     "name": "stdout",
     "output_type": "stream",
     "text": [
      "      age  months_as_customer  vehicle_make  repair_amount  market_value  \\\n",
      "1183   43                  59    Honda City       54077.74      74396.41   \n",
      "350    30                  59    Proton X70       54694.39     139718.20   \n",
      "289    42                   6    Honda City       13355.77      29097.33   \n",
      "1323   39                   7    Honda City      103241.51     142283.74   \n",
      "1960   55                 151    Honda City        2100.68      20496.84   \n",
      "1385   38                  66    Honda City        7648.49      46798.74   \n",
      "2715   59                  78   Toyota Vios        1276.21      59655.20   \n",
      "2242   49                  35    Honda City       25204.69      65597.50   \n",
      "1419   45                   3   Toyota Vios        5686.11      13086.91   \n",
      "947    27                  91  BMW 3 Series       27432.17      78180.35   \n",
      "\n",
      "      anomaly_score  is_anomaly  \n",
      "1183      -0.153353           1  \n",
      "350       -0.126226           1  \n",
      "289       -0.116991           1  \n",
      "1323      -0.104320           1  \n",
      "1960      -0.101735           1  \n",
      "1385      -0.101217           1  \n",
      "2715      -0.096485           1  \n",
      "2242      -0.095966           1  \n",
      "1419      -0.094388           1  \n",
      "947       -0.093876           1  \n"
     ]
    }
   ],
   "source": [
    "# 0. define the pipeline\n",
    "from sklearn.pipeline import Pipeline\n",
    "from sklearn.ensemble import IsolationForest\n",
    "\n",
    "iso_pipeline = Pipeline([\n",
    "    (\"preprocessor\", preprocessor),\n",
    "    (\"anomaly_detector\", IsolationForest(\n",
    "        n_estimators=100,\n",
    "        contamination=\"auto\",\n",
    "        random_state=42\n",
    "    )),\n",
    "])\n",
    "\n",
    "# 1. Fit pipeline\n",
    "iso_pipeline.fit(X)\n",
    "\n",
    "# 2. Compute anomaly scores\n",
    "df[\"anomaly_score\"] = iso_pipeline.decision_function(X)\n",
    "\n",
    "# 3. Predict anomalies: +1 = normal, -1 = outlier\n",
    "preds = iso_pipeline.predict(X)\n",
    "df[\"is_anomaly\"] = np.where(preds == -1, 1, 0)\n",
    "\n",
    "# 4. Inspect the top 10 most “anomalous” claims\n",
    "suspects = df.sort_values(\"anomaly_score\").head(10)\n",
    "print(suspects[[\n",
    "    \"age\", \"months_as_customer\", \"vehicle_make\",\n",
    "    \"repair_amount\", \"market_value\", \"anomaly_score\", \"is_anomaly\"\n",
    "]])\n"
   ]
  },
  {
   "cell_type": "code",
   "execution_count": 5,
   "id": "3cf3dfca",
   "metadata": {},
   "outputs": [
    {
     "name": "stdout",
     "output_type": "stream",
     "text": [
      "      age  months_as_customer  vehicle_make  repair_amount  market_value  \\\n",
      "1183   43                  59    Honda City       54077.74      74396.41   \n",
      "350    30                  59    Proton X70       54694.39     139718.20   \n",
      "289    42                   6    Honda City       13355.77      29097.33   \n",
      "1323   39                   7    Honda City      103241.51     142283.74   \n",
      "1960   55                 151    Honda City        2100.68      20496.84   \n",
      "1385   38                  66    Honda City        7648.49      46798.74   \n",
      "2715   59                  78   Toyota Vios        1276.21      59655.20   \n",
      "2242   49                  35    Honda City       25204.69      65597.50   \n",
      "1419   45                   3   Toyota Vios        5686.11      13086.91   \n",
      "947    27                  91  BMW 3 Series       27432.17      78180.35   \n",
      "\n",
      "      anomaly_score  is_anomaly  \n",
      "1183      -0.153353           1  \n",
      "350       -0.126226           1  \n",
      "289       -0.116991           1  \n",
      "1323      -0.104320           1  \n",
      "1960      -0.101735           1  \n",
      "1385      -0.101217           1  \n",
      "2715      -0.096485           1  \n",
      "2242      -0.095966           1  \n",
      "1419      -0.094388           1  \n",
      "947       -0.093876           1  \n"
     ]
    }
   ],
   "source": [
    "import numpy as np\n",
    "\n",
    "# 1) Compute anomaly scores (higher = more “normal”)\n",
    "df[\"anomaly_score\"] = iso_pipeline.decision_function(X)\n",
    "\n",
    "# 2) Predict: +1 = normal, -1 = anomaly → convert to 0/1\n",
    "preds = iso_pipeline.predict(X)\n",
    "df[\"is_anomaly\"] = np.where(preds == -1, 1, 0)\n",
    "\n",
    "# 3) View the top 10 most suspicious claims\n",
    "suspects = df.sort_values(\"anomaly_score\").head(10)\n",
    "print(suspects[[\n",
    "    \"age\", \"months_as_customer\", \"vehicle_make\",\n",
    "    \"repair_amount\", \"market_value\", \"anomaly_score\", \"is_anomaly\"\n",
    "]])\n"
   ]
  }
 ],
 "metadata": {
  "kernelspec": {
   "display_name": "Python 3 (ipykernel)",
   "language": "python",
   "name": "python3"
  },
  "language_info": {
   "codemirror_mode": {
    "name": "ipython",
    "version": 3
   },
   "file_extension": ".py",
   "mimetype": "text/x-python",
   "name": "python",
   "nbconvert_exporter": "python",
   "pygments_lexer": "ipython3",
   "version": "3.9.11"
  }
 },
 "nbformat": 4,
 "nbformat_minor": 5
}
