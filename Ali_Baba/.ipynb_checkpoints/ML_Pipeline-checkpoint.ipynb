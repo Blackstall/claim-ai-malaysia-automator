{
 "cells": [
  {
   "cell_type": "code",
   "execution_count": 1,
   "id": "9caa7154",
   "metadata": {},
   "outputs": [],
   "source": [
    "import pandas as pd\n",
    "import joblib\n",
    "\n",
    "# 1. Load both saved pipelines\n",
    "approval_model = joblib.load(\"Approval_Model.pkl\")\n",
    "coverage_model = joblib.load(\"Coverage_Model.pkl\")\n",
    "anomaly_model  = joblib.load(\"Anomaly_Model.pkl\")"
   ]
  },
  {
   "cell_type": "code",
   "execution_count": null,
   "id": "75133b7a",
   "metadata": {},
   "outputs": [],
   "source": [
    "# 2. Define user-specified claim(s)\n",
    "user_claims = pd.DataFrame([{\n",
    "    \"age\": 34,\n",
    "    \"months_as_customer\": 48,\n",
    "    \"vehicle_age_years\": 4,\n",
    "    \"vehicle_make\": \"Perodua Myvi\",\n",
    "    \"policy_expired_flag\": 0,\n",
    "    \"deductible_amount\": 500.0,\n",
    "    \"market_value\": 28000.0,\n",
    "    \"damage_severity_score\": 0.35,\n",
    "    \"repair_amount\": 9000.0,\n",
    "    \"at_fault_flag\": 0,\n",
    "    \"time_to_report_days\": 3,\n",
    "    \"claim_reported_to_police_flag\": 1,\n",
    "    \"license_type_missing_flag\": 0,\n",
    "    \"num_third_parties\": 1,\n",
    "    \"num_witnesses\": 2\n",
    "}])"
   ]
  },
  {
   "cell_type": "code",
   "execution_count": 4,
   "id": "455fb693",
   "metadata": {},
   "outputs": [],
   "source": []
  },
  {
   "cell_type": "code",
   "execution_count": 5,
   "id": "88f8c166",
   "metadata": {},
   "outputs": [],
   "source": [
    "# 2. Define the evaluation function\n",
    "def evaluate_claim(claim: dict):\n",
    "    \"\"\"\n",
    "    claim: dict with keys matching your feature columns:\n",
    "      age, months_as_customer, vehicle_age_years, vehicle_make,\n",
    "      policy_expired_flag, deductible_amount, market_value,\n",
    "      damage_severity_score, repair_amount, at_fault_flag,\n",
    "      time_to_report_days, claim_reported_to_police_flag,\n",
    "      license_type_missing_flag, num_third_parties, num_witnesses\n",
    "    Returns: (approved: bool, coverage: float)\n",
    "    \"\"\"\n",
    "    df = pd.DataFrame([claim])\n",
    "    \n",
    "    # 2a. Predict approval\n",
    "    approved = bool(approval_model.predict(df)[0])\n",
    "    \n",
    "    # 2b. If approved, predict coverage; else zero\n",
    "    if approved:\n",
    "        coverage = float(coverage_model.predict(df)[0])\n",
    "    else:\n",
    "        coverage = 0.0\n",
    "    \n",
    "    return approved, coverage"
   ]
  },
  {
   "cell_type": "code",
   "execution_count": 9,
   "id": "d41d5744",
   "metadata": {},
   "outputs": [
    {
     "name": "stdout",
     "output_type": "stream",
     "text": [
      "Approved? False\n",
      "Coverage (RM)? 0.0\n"
     ]
    }
   ],
   "source": [
    "# 3. Example usage\n",
    "new_claim = {\n",
    "    \"age\": 34,\n",
    "    \"months_as_customer\": 4,\n",
    "    \"vehicle_age_years\": 4,\n",
    "    \"vehicle_make\": \"Perodua Myvi\",\n",
    "    \"policy_expired_flag\": 0,\n",
    "    \"deductible_amount\": 500.0,\n",
    "    \"market_value\": 28000.0,\n",
    "    \"damage_severity_score\": 0.35,\n",
    "    \"repair_amount\": 9000.0,\n",
    "    \"at_fault_flag\": 1,\n",
    "    \"time_to_report_days\": 9,\n",
    "    \"claim_reported_to_police_flag\": 0,\n",
    "    \"license_type_missing_flag\": 1,\n",
    "    \"num_third_parties\": 1,\n",
    "    \"num_witnesses\": 2\n",
    "}\n",
    "\n",
    "approved, coverage = evaluate_claim(new_claim)\n",
    "print(\"Approved?\"      , approved)\n",
    "print(\"Coverage (RM)?\" , coverage)"
   ]
  }
 ],
 "metadata": {
  "kernelspec": {
   "display_name": "Python 3 (ipykernel)",
   "language": "python",
   "name": "python3"
  },
  "language_info": {
   "codemirror_mode": {
    "name": "ipython",
    "version": 3
   },
   "file_extension": ".py",
   "mimetype": "text/x-python",
   "name": "python",
   "nbconvert_exporter": "python",
   "pygments_lexer": "ipython3",
   "version": "3.9.11"
  }
 },
 "nbformat": 4,
 "nbformat_minor": 5
}
