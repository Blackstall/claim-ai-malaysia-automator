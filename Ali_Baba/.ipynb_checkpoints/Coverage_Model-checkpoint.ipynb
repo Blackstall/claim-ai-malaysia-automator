{
 "cells": [
  {
   "cell_type": "code",
   "execution_count": 3,
   "id": "89ebac05",
   "metadata": {},
   "outputs": [
    {
     "name": "stderr",
     "output_type": "stream",
     "text": [
      "C:\\Users\\Acer\\AppData\\Local\\Programs\\Python\\Python39\\lib\\site-packages\\sklearn\\preprocessing\\_encoders.py:975: FutureWarning: `sparse` was renamed to `sparse_output` in version 1.2 and will be removed in 1.4. `sparse_output` is ignored unless you leave `sparse` to its default value.\n",
      "  warnings.warn(\n",
      "C:\\Users\\Acer\\AppData\\Local\\Programs\\Python\\Python39\\lib\\site-packages\\sklearn\\preprocessing\\_encoders.py:975: FutureWarning: `sparse` was renamed to `sparse_output` in version 1.2 and will be removed in 1.4. `sparse_output` is ignored unless you leave `sparse` to its default value.\n",
      "  warnings.warn(\n",
      "C:\\Users\\Acer\\AppData\\Local\\Programs\\Python\\Python39\\lib\\site-packages\\sklearn\\preprocessing\\_encoders.py:975: FutureWarning: `sparse` was renamed to `sparse_output` in version 1.2 and will be removed in 1.4. `sparse_output` is ignored unless you leave `sparse` to its default value.\n",
      "  warnings.warn(\n",
      "C:\\Users\\Acer\\AppData\\Local\\Programs\\Python\\Python39\\lib\\site-packages\\sklearn\\preprocessing\\_encoders.py:975: FutureWarning: `sparse` was renamed to `sparse_output` in version 1.2 and will be removed in 1.4. `sparse_output` is ignored unless you leave `sparse` to its default value.\n",
      "  warnings.warn(\n",
      "C:\\Users\\Acer\\AppData\\Local\\Programs\\Python\\Python39\\lib\\site-packages\\sklearn\\preprocessing\\_encoders.py:975: FutureWarning: `sparse` was renamed to `sparse_output` in version 1.2 and will be removed in 1.4. `sparse_output` is ignored unless you leave `sparse` to its default value.\n",
      "  warnings.warn(\n",
      "C:\\Users\\Acer\\AppData\\Local\\Programs\\Python\\Python39\\lib\\site-packages\\sklearn\\preprocessing\\_encoders.py:975: FutureWarning: `sparse` was renamed to `sparse_output` in version 1.2 and will be removed in 1.4. `sparse_output` is ignored unless you leave `sparse` to its default value.\n",
      "  warnings.warn(\n",
      "C:\\Users\\Acer\\AppData\\Local\\Programs\\Python\\Python39\\lib\\site-packages\\sklearn\\preprocessing\\_encoders.py:975: FutureWarning: `sparse` was renamed to `sparse_output` in version 1.2 and will be removed in 1.4. `sparse_output` is ignored unless you leave `sparse` to its default value.\n",
      "  warnings.warn(\n",
      "C:\\Users\\Acer\\AppData\\Local\\Programs\\Python\\Python39\\lib\\site-packages\\sklearn\\preprocessing\\_encoders.py:975: FutureWarning: `sparse` was renamed to `sparse_output` in version 1.2 and will be removed in 1.4. `sparse_output` is ignored unless you leave `sparse` to its default value.\n",
      "  warnings.warn(\n",
      "C:\\Users\\Acer\\AppData\\Local\\Programs\\Python\\Python39\\lib\\site-packages\\sklearn\\preprocessing\\_encoders.py:975: FutureWarning: `sparse` was renamed to `sparse_output` in version 1.2 and will be removed in 1.4. `sparse_output` is ignored unless you leave `sparse` to its default value.\n",
      "  warnings.warn(\n",
      "C:\\Users\\Acer\\AppData\\Local\\Programs\\Python\\Python39\\lib\\site-packages\\sklearn\\preprocessing\\_encoders.py:975: FutureWarning: `sparse` was renamed to `sparse_output` in version 1.2 and will be removed in 1.4. `sparse_output` is ignored unless you leave `sparse` to its default value.\n",
      "  warnings.warn(\n"
     ]
    },
    {
     "name": "stdout",
     "output_type": "stream",
     "text": [
      "HOLD-OUT MSE: 26070133.58\n",
      "HOLD-OUT R²:  0.805\n",
      "5-fold CV MSE: 29756285.36 ± 5958872.84\n",
      "5-fold CV R²:  0.749 ± 0.064\n"
     ]
    },
    {
     "name": "stderr",
     "output_type": "stream",
     "text": [
      "C:\\Users\\Acer\\AppData\\Local\\Programs\\Python\\Python39\\lib\\site-packages\\sklearn\\preprocessing\\_encoders.py:975: FutureWarning: `sparse` was renamed to `sparse_output` in version 1.2 and will be removed in 1.4. `sparse_output` is ignored unless you leave `sparse` to its default value.\n",
      "  warnings.warn(\n"
     ]
    }
   ],
   "source": [
    "import pandas as pd\n",
    "import joblib\n",
    "from sklearn.model_selection import train_test_split, cross_val_score, KFold\n",
    "from sklearn.preprocessing import StandardScaler, OneHotEncoder\n",
    "from sklearn.compose import ColumnTransformer\n",
    "from sklearn.pipeline import Pipeline\n",
    "from sklearn.linear_model import Ridge\n",
    "from sklearn.metrics import mean_squared_error, r2_score\n",
    "\n",
    "# 1. Load data\n",
    "df = pd.read_csv(\"Training_Dataset.csv\")\n",
    "\n",
    "# 2. Drop unused cols\n",
    "df = df.drop(columns=[\"ic_number\", \"approval_flag\", \"plate_number\"])\n",
    "\n",
    "# 3. Features & target\n",
    "X = df.drop(columns=\"coverage_amount\")\n",
    "y = df[\"coverage_amount\"]\n",
    "\n",
    "# 4. Identify columns\n",
    "numeric_features = [\n",
    "    \"age\", \"months_as_customer\", \"vehicle_age_years\",\n",
    "    \"policy_expired_flag\", \"deductible_amount\", \"market_value\",\n",
    "    \"damage_severity_score\", \"repair_amount\", \"at_fault_flag\",\n",
    "    \"time_to_report_days\", \"claim_reported_to_police_flag\",\n",
    "    \"license_type_missing_flag\", \"num_third_parties\", \"num_witnesses\"\n",
    "]\n",
    "categorical_features = [\"vehicle_make\"]\n",
    "\n",
    "# 5. Preprocessor\n",
    "preprocessor = ColumnTransformer([\n",
    "    (\"num\", StandardScaler(), numeric_features),\n",
    "    (\"cat\", OneHotEncoder(drop=\"first\", sparse=False), categorical_features),\n",
    "])\n",
    "\n",
    "# 6. Choose a regressor\n",
    "regressor = Ridge(alpha=1.0)  \n",
    "# regressor = RandomForestRegressor(n_estimators=100, random_state=42)\n",
    "\n",
    "pipe = Pipeline([\n",
    "    (\"preproc\", preprocessor),\n",
    "    (\"reg\", regressor),\n",
    "])\n",
    "\n",
    "# 7. Train/Test split\n",
    "X_train, X_test, y_train, y_test = train_test_split(\n",
    "    X, y, test_size=0.2, random_state=42\n",
    ")\n",
    "\n",
    "# 8. Fit\n",
    "pipe.fit(X_train, y_train)\n",
    "\n",
    "# 9. Predict & evaluate on hold-out\n",
    "y_pred = pipe.predict(X_test)\n",
    "mse = mean_squared_error(y_test, y_pred)\n",
    "r2  = r2_score(y_test, y_pred)\n",
    "\n",
    "print(f\"HOLD-OUT MSE: {mse:.2f}\")\n",
    "print(f\"HOLD-OUT R²:  {r2:.3f}\")\n",
    "\n",
    "# 10. Cross-validated performance\n",
    "cv = KFold(n_splits=5, shuffle=True, random_state=42)\n",
    "cv_mse = -cross_val_score(pipe, X, y, cv=cv, scoring=\"neg_mean_squared_error\")\n",
    "cv_r2  = cross_val_score(pipe, X, y, cv=cv, scoring=\"r2\")\n",
    "\n",
    "print(f\"5-fold CV MSE: {cv_mse.mean():.2f} ± {cv_mse.std():.2f}\")\n",
    "print(f\"5-fold CV R²:  {cv_r2.mean():.3f} ± {cv_r2.std():.3f}\")"
   ]
  },
  {
   "cell_type": "code",
   "execution_count": 2,
   "id": "220e5b80",
   "metadata": {},
   "outputs": [
    {
     "name": "stdout",
     "output_type": "stream",
     "text": [
      "Trained regression pipeline saved to coverage_model.pkl\n"
     ]
    }
   ],
   "source": [
    "# 11. Serialize the trained pipeline\n",
    "joblib.dump(pipe, \"Coverage_Model.pkl\")\n",
    "print(\"Trained regression pipeline saved to coverage_model.pkl\")"
   ]
  }
 ],
 "metadata": {
  "kernelspec": {
   "display_name": "Python 3 (ipykernel)",
   "language": "python",
   "name": "python3"
  },
  "language_info": {
   "codemirror_mode": {
    "name": "ipython",
    "version": 3
   },
   "file_extension": ".py",
   "mimetype": "text/x-python",
   "name": "python",
   "nbconvert_exporter": "python",
   "pygments_lexer": "ipython3",
   "version": "3.9.11"
  }
 },
 "nbformat": 4,
 "nbformat_minor": 5
}
