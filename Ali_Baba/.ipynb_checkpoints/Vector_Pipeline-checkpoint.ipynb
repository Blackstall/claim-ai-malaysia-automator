{
 "cells": [
  {
   "cell_type": "code",
   "execution_count": 36,
   "id": "fd9a7c06",
   "metadata": {},
   "outputs": [],
   "source": [
    "from openai import OpenAI\n",
    "from dashvector import Client as DashClient, Doc\n",
    "from tqdm import tqdm\n",
    "import os\n",
    "\n",
    "# === Setup clients ===\n",
    "client = OpenAI(\n",
    "    api_key=\"sk-91d59f4cf5ff44cf9f8280a91dacbb1c\",\n",
    "    base_url=\"https://dashscope-intl.aliyuncs.com/compatible-mode/v1\"\n",
    ")\n",
    "\n",
    "dashvector_client = DashClient(\n",
    "    api_key=\"sk-eAO7D10gZP2kzhjeKmiI7b6bOHTmoD6B9CAC6318F11F097B99A92126D810D\",\n",
    "    endpoint=\"vrs-sg-l0z49hq250003n.dashvector.ap-southeast-1.aliyuncs.com\"\n",
    ")"
   ]
  },
  {
   "cell_type": "code",
   "execution_count": 37,
   "id": "9ee534b1",
   "metadata": {},
   "outputs": [],
   "source": [
    "from docx import Document\n",
    "\n",
    "def load_docx_chunks(path, chunk_size=300):\n",
    "    doc = Document(path)\n",
    "    full_text = []\n",
    "\n",
    "    for para in doc.paragraphs:\n",
    "        text = para.text.strip()\n",
    "        if text:\n",
    "            full_text.append(text)\n",
    "\n",
    "    # Optional: join and chunk by characters or sentences\n",
    "    combined_text = \"\\n\".join(full_text)\n",
    "\n",
    "    # Chunk into fixed size (you can also use sentence split here)\n",
    "    chunks = [combined_text[i:i+chunk_size] for i in range(0, len(combined_text), chunk_size)]\n",
    "    return chunks\n"
   ]
  },
  {
   "cell_type": "code",
   "execution_count": 38,
   "id": "5526d479",
   "metadata": {},
   "outputs": [],
   "source": [
    "from nltk.tokenize import sent_tokenize  # Example for sentence-level chunking\n",
    "def load_docx_chunks(path):\n",
    "    doc = Document(path)\n",
    "    text = \"\\n\".join([para.text.strip() for para in doc.paragraphs if para.text.strip()])\n",
    "    sentences = sent_tokenize(text)\n",
    "    # Join every 3 sentences into a single string\n",
    "    return [\" \".join(sentences[i:i+3]) for i in range(0, len(sentences), 3)]"
   ]
  },
  {
   "cell_type": "code",
   "execution_count": 39,
   "id": "e5449b6a",
   "metadata": {},
   "outputs": [],
   "source": [
    "chunks = load_docx_chunks(\"insurance_policy_company_A.docx\")"
   ]
  },
  {
   "cell_type": "code",
   "execution_count": 40,
   "id": "a48d3a39",
   "metadata": {},
   "outputs": [
    {
     "data": {
      "text/plain": [
       "['ABC Motor Insurance Company\\nDummy Internal Policy Document: Motor Accident Claims\\n1. Introduction\\nABC Motor Insurance Company provides comprehensive motor insurance coverage to eligible policyholders. This document outlines key policy terms, coverage limits, claim procedures, and decision criteria to support the Retrieval-Augmented Generation (RAG) chatbot in delivering accurate, grounded responses to user inquiries.',\n",
       " '2. Definitions\\nPolicyholder: The individual or entity named on the insurance policy. Insured Vehicle: The registered vehicle covered under the policy.',\n",
       " 'At-Fault Collision: Accident where the insured is responsible for damages. Third-Party: Any other party involved in the accident. Coverage Limit: Maximum amount payable by the Company for a claim.',\n",
       " 'Deductible: The portion of repair costs the policyholder must bear before Company payment. 3. Eligibility & Policy Conditions\\nPolicies must be active (non-expired) at the time of the accident.',\n",
       " 'Vehicles older than 20 years are ineligible for Standard Coverage; consider Vintage Rider. Policyholders must hold a valid driver’s license matching the class required for their vehicle. 4.',\n",
       " 'Coverage Types & Limits\\nComprehensive Cover:\\nCollision damage (own vehicle): up to Market Value less Deductible. Third-Party liability: up to MYR 1,000,000 per claim. Third-Party, Fire & Theft:\\nFire/theft damage: up to Market Value less Deductible.',\n",
       " 'Third-Party liability: up to MYR 1,000,000. Basic Third-Party Only:\\nThird-Party liability: up to MYR 300,000. 5.',\n",
       " 'Exclusions\\nLosses due to wilful misconduct or criminal acts. Claims arising when driving under influence above legal limit (0.08% BAC). Use of vehicle for hire, racing, or off-road events (unless Rider added).',\n",
       " 'Damage sustained outside Malaysia. Wear and tear, mechanical breakdown, depreciation. 6.',\n",
       " 'Claim Submission & Documentation\\nImmediate Steps\\nReport accident within 7 days of occurrence. File First Information Report (FIR) with police if third-party injury or property damage involved. Required Documents\\nCompleted Claim Form (Form C-01).',\n",
       " 'Police report (if applicable). Vehicle registration (Grant). Valid driver’s license.',\n",
       " 'Photographs of damage (minimum 4 angles). Repair estimate from Company-approved workshop. Third-party statements/witness declarations (if applicable).',\n",
       " '7. Assessment & Approval Criteria\\nDeterministic Rules:\\n• Not at fault (At-Fault Flag = 0) adds favorable weight. • Reported within 7 days adds weight; >7 days triggers penalty.',\n",
       " '• Police report filed adds weight; absence deducts weight. • Policy active at time of accident required; expired policies auto-decline. • Customer loyalty (>36 months) and witness presence add positive value.',\n",
       " '• Damage severity and repair amount relative to market value influence decision. Thresholds:\\nScore ≥ +1.0: Approve. +0.5 ≤ Score < +1.0: Approve with Low Coverage (partial payout or higher deductible).',\n",
       " 'Score < +0.5: Decline. 8. Payout Calculation\\nPayout = min(Repair Amount, Market Value) - Deductible Amount\\nCoverage Amount = Rounded to nearest MYR 1\\nIf • Repair Amount > Market Value: limit to Market Value.',\n",
       " 'If • Coverage Amount falls below MYR 500: consider low-coverage approval or offer cash-settlement option. 9. Post-Approval Process\\nNotification: Send approval letter/email within 2 business days.',\n",
       " 'Next Steps:\\nSubmit final repair invoice. Coordinate directly with approved workshop. Funds disbursed within 5 business days after document verification.',\n",
       " '10. Handling Declined Claims\\nProvide clear reason code(s) referencing policy clause (e.g. Clause 5.2: License invalid).',\n",
       " 'Inform policyholder of appeal rights: submit appeal within 30 days with additional evidence. Appeals reviewed by Senior Claims Manager within 10 business days. 11.',\n",
       " 'Record-Keeping & Audit\\nAll claim files must be digitized and stored in Claims Management System (CMS). Retain documents for minimum 7 years for regulatory compliance. 12.',\n",
       " 'Definitions of Reason Codes\\n13. Contacts & Escalations\\nClaims Helpline: +603-1234-5678 (Mon–Fri, 9am–6pm)\\nEmail: claims@abcmotor.com.my\\nSenior Claims Manager: sc.manager@abcmotor.com.my\\nEnd of Policy Document']"
      ]
     },
     "execution_count": 40,
     "metadata": {},
     "output_type": "execute_result"
    }
   ],
   "source": [
    "chunks"
   ]
  },
  {
   "cell_type": "code",
   "execution_count": 41,
   "id": "1c7623c8",
   "metadata": {},
   "outputs": [
    {
     "name": "stderr",
     "output_type": "stream",
     "text": [
      "Embedding chunks: 100%|████████████████████████████████████████████████████████████████| 22/22 [00:02<00:00,  8.32it/s]\n"
     ]
    }
   ],
   "source": [
    "# === Helper: batching ===\n",
    "def batch_list(lst, n=10):\n",
    "    for i in range(0, len(lst), n):\n",
    "        yield lst[i:i + n]\n",
    "\n",
    "all_embeddings = []\n",
    "for chunk in tqdm(chunks, desc=\"Embedding chunks\"):\n",
    "    response = client.embeddings.create(\n",
    "        model=\"text-embedding-v3\",\n",
    "        input=chunk,  # Pass a single string\n",
    "        encoding_format=\"float\"\n",
    "    )\n",
    "    all_embeddings.append(response.data[0].embedding)"
   ]
  },
  {
   "cell_type": "code",
   "execution_count": 42,
   "id": "ed79af73",
   "metadata": {},
   "outputs": [],
   "source": [
    "assert len(all_embeddings[0]) == 1024, \"Embedding dimension mismatch\"\n",
    "import numpy as np\n",
    "all_embeddings = [vec / np.linalg.norm(vec) for vec in all_embeddings]"
   ]
  },
  {
   "cell_type": "code",
   "execution_count": 43,
   "id": "b6075de1",
   "metadata": {},
   "outputs": [],
   "source": [
    "# === Create collection if not exists ===\n",
    "collection_name = \"quickstart\"\n",
    "dashvector_client.create(name=collection_name, dimension=1024)\n",
    "collection = dashvector_client.get(name=collection_name)"
   ]
  },
  {
   "cell_type": "code",
   "execution_count": 44,
   "id": "8bdbca26",
   "metadata": {
    "scrolled": true
   },
   "outputs": [],
   "source": [
    "source_name = \"insurance_policy_company_A.docx\"  # ✅ Define the variable first\n",
    "docs = [\n",
    "    Doc(\n",
    "        id=str(i),\n",
    "        vector=embedding,\n",
    "        fields={\n",
    "            \"text\": chunks[i],\n",
    "            \"source\": source_name,  # Now valid\n",
    "            \"chunk_index\": i\n",
    "        }\n",
    "    )\n",
    "    for i, embedding in enumerate(all_embeddings)\n",
    "]\n",
    "\n",
    "for i, chunk in enumerate(chunks):\n",
    "    doc = Doc(\n",
    "        id=str(i),\n",
    "        vector=all_embeddings[i],\n",
    "        fields={\n",
    "            \"text\": chunk,  # Now a string (not a list)\n",
    "            \"source\": source_name,\n",
    "            \"chunk_index\": i\n",
    "        }\n",
    "    )\n",
    "    assert isinstance(doc.fields[\"text\"], str), \"Text field must be a string\""
   ]
  },
  {
   "cell_type": "code",
   "execution_count": 45,
   "id": "9491acb6",
   "metadata": {},
   "outputs": [
    {
     "name": "stdout",
     "output_type": "stream",
     "text": [
      "Uploaded 22 documents\n"
     ]
    }
   ],
   "source": [
    "resp = collection.insert(docs)\n",
    "if resp.code != 0:\n",
    "    print(f\"Upload failed: {resp.message}\")\n",
    "else:\n",
    "    print(f\"Uploaded {len(docs)} documents\")"
   ]
  },
  {
   "cell_type": "code",
   "execution_count": 10,
   "id": "227bf3cc",
   "metadata": {},
   "outputs": [],
   "source": [
    "# docs"
   ]
  },
  {
   "cell_type": "code",
   "execution_count": 11,
   "id": "2ce9509f",
   "metadata": {},
   "outputs": [],
   "source": [
    "# RAG"
   ]
  },
  {
   "cell_type": "code",
   "execution_count": 32,
   "id": "9b6f3995",
   "metadata": {},
   "outputs": [],
   "source": [
    "from openai import OpenAI\n",
    "import os\n",
    "from tqdm import tqdm\n",
    "\n",
    "# Setup DashScope OpenAI-compatible client\n",
    "client = OpenAI(\n",
    "    api_key=\"sk-91d59f4cf5ff44cf9f8280a91dacbb1c\",\n",
    "    base_url=\"https://dashscope-intl.aliyuncs.com/compatible-mode/v1\"\n",
    ")\n",
    "\n",
    "\n",
    "query = \"What is the coverage limit for Third-Party liability under Comprehensive Cover?\"\n",
    "response = client.embeddings.create(\n",
    "    model=\"text-embedding-v3\",\n",
    "    input=query,\n",
    "    encoding_format=\"float\"\n",
    ")\n",
    "query_embedding = response.data[0].embedding  # Extract the embedding\n",
    "query_embedding = np.array(response.data[0].embedding)\n",
    "query_embedding = query_embedding / np.linalg.norm(query_embedding)  # L2 normalize"
   ]
  },
  {
   "cell_type": "code",
   "execution_count": 33,
   "id": "7cd761a6",
   "metadata": {},
   "outputs": [
    {
     "name": "stdout",
     "output_type": "stream",
     "text": [
      "Query embedding dim: 1024\n",
      "Doc embedding dim: 1024\n"
     ]
    }
   ],
   "source": [
    "# Verify embedding dimensions\n",
    "print(f\"Query embedding dim: {len(query_embedding)}\")  # Should be 1024\n",
    "print(f\"Doc embedding dim: {len(all_embeddings[0])}\")   # Should be 1024\n",
    "\n",
    "# Ensure embeddings are lists of floats (not arrays)\n",
    "query_embedding = [float(x) for x in query_embedding]  # Convert numpy array to list"
   ]
  },
  {
   "cell_type": "code",
   "execution_count": 34,
   "id": "adc35e49",
   "metadata": {},
   "outputs": [
    {
     "name": "stdout",
     "output_type": "stream",
     "text": [
      "Collection stats: {\"code\": 0, \"message\": \"\", \"requests_id\": \"57350736-3e2b-43a7-a872-ce11c51c7594\", \"output\": {\"total_doc_count\": 22, \"index_completeness\": 1.0, \"partitions\": {\"default\": {\"total_doc_count\": 22}}}}\n",
      "Retrieved chunks:\n",
      "Rank 1 | Score: 0.2236 | Text: Coverage Types & Limits\n",
      "Comprehensive Cover:\n",
      "Collision damage (own vehicle): up to Market Value less Deductible. Third-Party liability: up to MYR 1,000,000 per claim. Third-Party, Fire & Theft:\n",
      "Fire/theft damage: up to Market Value less Deductible.\n",
      "Rank 2 | Score: 0.2828 | Text: At-Fault Collision: Accident where the insured is responsible for damages. Third-Party: Any other party involved in the accident. Coverage Limit: Maximum amount payable by the Company for a claim.\n",
      "Rank 3 | Score: 0.3026 | Text: Third-Party liability: up to MYR 1,000,000. Basic Third-Party Only:\n",
      "Third-Party liability: up to MYR 300,000. 5.\n",
      "Rank 4 | Score: 0.4272 | Text: Deductible: The portion of repair costs the policyholder must bear before Company payment. 3. Eligibility & Policy Conditions\n",
      "Policies must be active (non-expired) at the time of the accident.\n",
      "Rank 5 | Score: 0.4356 | Text: • Damage severity and repair amount relative to market value influence decision. Thresholds:\n",
      "Score ≥ +1.0: Approve. +0.5 ≤ Score < +1.0: Approve with Low Coverage (partial payout or higher deductible).\n",
      "Rank 6 | Score: 0.4431 | Text: ABC Motor Insurance Company\n",
      "Dummy Internal Policy Document: Motor Accident Claims\n",
      "1. Introduction\n",
      "ABC Motor Insurance Company provides comprehensive motor insurance coverage to eligible policyholders. This document outlines key policy terms, coverage limits, claim procedures, and decision criteria to support the Retrieval-Augmented Generation (RAG) chatbot in delivering accurate, grounded responses to user inquiries.\n",
      "Rank 7 | Score: 0.4687 | Text: Photographs of damage (minimum 4 angles). Repair estimate from Company-approved workshop. Third-party statements/witness declarations (if applicable).\n",
      "Rank 8 | Score: 0.4713 | Text: Vehicles older than 20 years are ineligible for Standard Coverage; consider Vintage Rider. Policyholders must hold a valid driver’s license matching the class required for their vehicle. 4.\n",
      "Rank 9 | Score: 0.4868 | Text: Score < +0.5: Decline. 8. Payout Calculation\n",
      "Payout = min(Repair Amount, Market Value) - Deductible Amount\n",
      "Coverage Amount = Rounded to nearest MYR 1\n",
      "If • Repair Amount > Market Value: limit to Market Value.\n",
      "Rank 10 | Score: 0.4983 | Text: Exclusions\n",
      "Losses due to wilful misconduct or criminal acts. Claims arising when driving under influence above legal limit (0.08% BAC). Use of vehicle for hire, racing, or off-road events (unless Rider added).\n"
     ]
    }
   ],
   "source": [
    "# Step 2: Search DashVector for top 5 similar docs\n",
    "collection = dashvector_client.get(name=\"quickstart\")\n",
    "stats = collection.stats()  # Check document count\n",
    "print(f\"Collection stats: {stats}\")  # Should show \"count\": len(docs)\n",
    "\n",
    "search_results = collection.query(query_embedding, topk=10)  # Increase topk to 10\n",
    "print(\"Retrieved chunks:\")\n",
    "for i, doc in enumerate(search_results):\n",
    "    print(f\"Rank {i+1} | Score: {doc.score} | Text: {doc.fields['text']}\")\n",
    "\n"
   ]
  },
  {
   "cell_type": "code",
   "execution_count": 35,
   "id": "ff9155ef",
   "metadata": {},
   "outputs": [
    {
     "name": "stdout",
     "output_type": "stream",
     "text": [
      "The coverage limit for Third-Party liability under Comprehensive Cover is up to MYR 1,000,000 per claim.\n"
     ]
    }
   ],
   "source": [
    "# Step 3: Extract retrieved chunks (assuming `fields` exist in result docs)\n",
    "retrieved_chunks = [doc.fields[\"text\"] for doc in search_results]\n",
    "\n",
    "# Step 4: Prepare prompt for Qwen with retrieved context + question\n",
    "context_text = \"\\n---\\n\".join(retrieved_chunks)\n",
    "\n",
    "prompt = f\"\"\"You are an AI assistant specialized in answering questions about insurance policies.\n",
    "Your task is to provide accurate answers based solely on the provided context from the policy document.\n",
    "If the context does not contain the answer, respond with \"The information is not available in the provided documents.\n",
    "\n",
    "Based on the following context:\n",
    "\n",
    "{''.join([f'[{j+1}] {chunk}' for j, chunk in enumerate(retrieved_chunks)])}\n",
    "\n",
    "Answer the question:\n",
    "{query}\n",
    "\n",
    "Instructions:\n",
    "- Use only the context above to formulate your answer.\n",
    "- If the answer is unclear, state that it is not found in the provided context.\n",
    "\"\"\"\n",
    "\n",
    "# Step 5: Call Qwen model for completion\n",
    "completion = client.chat.completions.create(\n",
    "    model=\"qwen-turbo\",\n",
    "    messages=[{\"role\": \"user\", \"content\": prompt}],\n",
    "    temperature=0.7,\n",
    "    max_tokens=512,\n",
    ")\n",
    "\n",
    "print(completion.choices[0].message.content)\n"
   ]
  },
  {
   "cell_type": "code",
   "execution_count": 15,
   "id": "da4e5e40",
   "metadata": {},
   "outputs": [
    {
     "name": "stdout",
     "output_type": "stream",
     "text": [
      "No existing collection or delete failed: delete() got an unexpected keyword argument 'name'\n"
     ]
    }
   ],
   "source": [
    "# # if wanna delete vector db\n",
    "# # -----------------------------------------\n",
    "\n",
    "# # Delete the existing collection (if it exists)\n",
    "# try:\n",
    "#     client.delete(name=\"quickstart\")\n",
    "#     print(\"Deleted existing collection.\")\n",
    "# except Exception as e:\n",
    "#     print(\"No existing collection or delete failed:\", e)"
   ]
  }
 ],
 "metadata": {
  "kernelspec": {
   "display_name": "Python 3 (ipykernel)",
   "language": "python",
   "name": "python3"
  },
  "language_info": {
   "codemirror_mode": {
    "name": "ipython",
    "version": 3
   },
   "file_extension": ".py",
   "mimetype": "text/x-python",
   "name": "python",
   "nbconvert_exporter": "python",
   "pygments_lexer": "ipython3",
   "version": "3.9.11"
  }
 },
 "nbformat": 4,
 "nbformat_minor": 5
}
