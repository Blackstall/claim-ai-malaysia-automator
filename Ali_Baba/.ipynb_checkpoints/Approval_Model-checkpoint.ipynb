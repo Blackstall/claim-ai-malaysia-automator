{
 "cells": [
  {
   "cell_type": "code",
   "execution_count": 1,
   "id": "90f845fa",
   "metadata": {},
   "outputs": [
    {
     "name": "stderr",
     "output_type": "stream",
     "text": [
      "C:\\Users\\Acer\\AppData\\Local\\Programs\\Python\\Python39\\lib\\site-packages\\sklearn\\preprocessing\\_encoders.py:975: FutureWarning: `sparse` was renamed to `sparse_output` in version 1.2 and will be removed in 1.4. `sparse_output` is ignored unless you leave `sparse` to its default value.\n",
      "  warnings.warn(\n",
      "C:\\Users\\Acer\\AppData\\Local\\Programs\\Python\\Python39\\lib\\site-packages\\sklearn\\preprocessing\\_encoders.py:975: FutureWarning: `sparse` was renamed to `sparse_output` in version 1.2 and will be removed in 1.4. `sparse_output` is ignored unless you leave `sparse` to its default value.\n",
      "  warnings.warn(\n",
      "C:\\Users\\Acer\\AppData\\Local\\Programs\\Python\\Python39\\lib\\site-packages\\sklearn\\preprocessing\\_encoders.py:975: FutureWarning: `sparse` was renamed to `sparse_output` in version 1.2 and will be removed in 1.4. `sparse_output` is ignored unless you leave `sparse` to its default value.\n",
      "  warnings.warn(\n",
      "C:\\Users\\Acer\\AppData\\Local\\Programs\\Python\\Python39\\lib\\site-packages\\sklearn\\preprocessing\\_encoders.py:975: FutureWarning: `sparse` was renamed to `sparse_output` in version 1.2 and will be removed in 1.4. `sparse_output` is ignored unless you leave `sparse` to its default value.\n",
      "  warnings.warn(\n"
     ]
    },
    {
     "name": "stdout",
     "output_type": "stream",
     "text": [
      "Classification Report:\n",
      "              precision    recall  f1-score   support\n",
      "\n",
      "           0       0.57      0.91      0.70       100\n",
      "           1       0.99      0.92      0.96       900\n",
      "\n",
      "    accuracy                           0.92      1000\n",
      "   macro avg       0.78      0.92      0.83      1000\n",
      "weighted avg       0.95      0.92      0.93      1000\n",
      "\n",
      "ROC AUC: 0.9829111111111111\n",
      "Confusion Matrix:\n",
      "[[ 91   9]\n",
      " [ 69 831]]\n",
      "5-fold CV AUC: 0.982 ± 0.006\n",
      "\n",
      "Top features by absolute weight:\n",
      "                          feature  coefficient\n",
      "8                   at_fault_flag    -2.624088\n",
      "3             policy_expired_flag    -2.558228\n",
      "10  claim_reported_to_police_flag     2.491517\n",
      "9             time_to_report_days    -2.352828\n",
      "13                  num_witnesses     1.579771\n",
      "1              months_as_customer     1.503320\n",
      "15           vehicle_make_Mazda 3     1.041442\n",
      "6           damage_severity_score    -0.760721\n",
      "11      license_type_missing_flag    -0.520848\n",
      "5                    market_value    -0.502518\n"
     ]
    },
    {
     "name": "stderr",
     "output_type": "stream",
     "text": [
      "C:\\Users\\Acer\\AppData\\Local\\Programs\\Python\\Python39\\lib\\site-packages\\sklearn\\preprocessing\\_encoders.py:975: FutureWarning: `sparse` was renamed to `sparse_output` in version 1.2 and will be removed in 1.4. `sparse_output` is ignored unless you leave `sparse` to its default value.\n",
      "  warnings.warn(\n",
      "C:\\Users\\Acer\\AppData\\Local\\Programs\\Python\\Python39\\lib\\site-packages\\sklearn\\preprocessing\\_encoders.py:975: FutureWarning: `sparse` was renamed to `sparse_output` in version 1.2 and will be removed in 1.4. `sparse_output` is ignored unless you leave `sparse` to its default value.\n",
      "  warnings.warn(\n"
     ]
    }
   ],
   "source": [
    "import pandas as pd\n",
    "from sklearn.model_selection import train_test_split, StratifiedKFold, cross_val_score\n",
    "from sklearn.preprocessing import StandardScaler, OneHotEncoder\n",
    "from sklearn.compose import ColumnTransformer\n",
    "from sklearn.pipeline import Pipeline\n",
    "from sklearn.linear_model import LogisticRegression\n",
    "from sklearn.metrics import classification_report, roc_auc_score, confusion_matrix\n",
    "\n",
    "# 1. Load data\n",
    "df = pd.read_csv(\"Training_Dataset.csv\")\n",
    "\n",
    "# 2. Drop unused columns\n",
    "df = df.drop(columns=[\"ic_number\", \"plate_number\", \"coverage_amount\"])\n",
    "\n",
    "# 3. Separate features & target\n",
    "X = df.drop(columns=\"approval_flag\")\n",
    "y = df[\"approval_flag\"]\n",
    "\n",
    "# 4. Identify column types\n",
    "numeric_features = [\n",
    "    \"age\", \"months_as_customer\", \"vehicle_age_years\",\n",
    "    \"policy_expired_flag\", \"deductible_amount\", \"market_value\",\n",
    "    \"damage_severity_score\", \"repair_amount\", \"at_fault_flag\",\n",
    "    \"time_to_report_days\", \"claim_reported_to_police_flag\",\n",
    "    \"license_type_missing_flag\", \"num_third_parties\", \"num_witnesses\"\n",
    "]\n",
    "categorical_features = [\"vehicle_make\"]\n",
    "\n",
    "# 5. Build preprocessing & modeling pipeline\n",
    "preprocessor = ColumnTransformer([\n",
    "    (\"num\", StandardScaler(), numeric_features),\n",
    "    (\"cat\", OneHotEncoder(drop=\"first\", sparse=False), categorical_features),\n",
    "])\n",
    "\n",
    "clf = Pipeline([\n",
    "    (\"preproc\", preprocessor),\n",
    "    (\"logreg\", LogisticRegression(max_iter=1000, class_weight=\"balanced\")),\n",
    "])\n",
    "\n",
    "# 6. Train/Test split\n",
    "X_train, X_test, y_train, y_test = train_test_split(\n",
    "    X, y, test_size=0.2, stratify=y, random_state=42\n",
    ")\n",
    "\n",
    "# 7. Fit model\n",
    "clf.fit(X_train, y_train)\n",
    "\n",
    "# 8. Evaluate on hold-out set\n",
    "y_pred = clf.predict(X_test)\n",
    "y_prob = clf.predict_proba(X_test)[:, 1]\n",
    "\n",
    "print(\"Classification Report:\")\n",
    "print(classification_report(y_test, y_pred))\n",
    "\n",
    "print(\"ROC AUC:\", roc_auc_score(y_test, y_prob))\n",
    "\n",
    "print(\"Confusion Matrix:\")\n",
    "print(confusion_matrix(y_test, y_pred))\n",
    "\n",
    "# 9. Cross-validated AUC\n",
    "cv = StratifiedKFold(n_splits=5, shuffle=True, random_state=42)\n",
    "cv_scores = cross_val_score(clf, X, y, cv=cv, scoring=\"roc_auc\")\n",
    "print(\"5-fold CV AUC: %.3f ± %.3f\" % (cv_scores.mean(), cv_scores.std()))\n",
    "\n",
    "# 10. Inspect learned coefficients vs. feature names\n",
    "#    (numeric scaled + one-hot cols)\n",
    "# Inspect learned coefficients vs. feature names\n",
    "feature_names_num = numeric_features\n",
    "ohe = clf.named_steps[\"preproc\"].named_transformers_[\"cat\"]\n",
    "feature_names_cat = list(ohe.get_feature_names_out(categorical_features))\n",
    "feature_names = feature_names_num + feature_names_cat\n",
    "\n",
    "coefs = clf.named_steps[\"logreg\"].coef_[0]\n",
    "coef_df = pd.DataFrame({\n",
    "    \"feature\": feature_names,\n",
    "    \"coefficient\": coefs\n",
    "})\n",
    "\n",
    "# Sort by absolute coefficient magnitude\n",
    "coef_df = coef_df.sort_values(\n",
    "    by=\"coefficient\",\n",
    "    key=lambda col: col.abs(),\n",
    "    ascending=False\n",
    ")\n",
    "\n",
    "print(\"\\nTop features by absolute weight:\")\n",
    "print(coef_df.head(10))"
   ]
  },
  {
   "cell_type": "code",
   "execution_count": 2,
   "id": "32bef89c",
   "metadata": {},
   "outputs": [
    {
     "name": "stdout",
     "output_type": "stream",
     "text": [
      "Model saved to approval_model.pkl\n"
     ]
    }
   ],
   "source": [
    "import joblib\n",
    "\n",
    "# clf is your trained Pipeline\n",
    "joblib.dump(clf, \"Approval_Model.pkl\")\n",
    "\n",
    "print(\"Model saved to approval_model.pkl\")"
   ]
  }
 ],
 "metadata": {
  "kernelspec": {
   "display_name": "Python 3 (ipykernel)",
   "language": "python",
   "name": "python3"
  },
  "language_info": {
   "codemirror_mode": {
    "name": "ipython",
    "version": 3
   },
   "file_extension": ".py",
   "mimetype": "text/x-python",
   "name": "python",
   "nbconvert_exporter": "python",
   "pygments_lexer": "ipython3",
   "version": "3.9.11"
  }
 },
 "nbformat": 4,
 "nbformat_minor": 5
}
