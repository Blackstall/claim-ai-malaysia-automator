{
 "cells": [
  {
   "cell_type": "code",
   "execution_count": 1,
   "id": "9caa7154",
   "metadata": {},
   "outputs": [],
   "source": [
    "import pandas as pd\n",
    "import joblib\n",
    "\n",
    "# 1. Load both saved pipelines\n",
    "approval_model = joblib.load(\"Approval_Model.pkl\")\n",
    "coverage_model = joblib.load(\"Coverage_Model.pkl\")\n",
    "anomaly_model  = joblib.load(\"Anomaly_Model.pkl\")"
   ]
  },
  {
   "cell_type": "code",
   "execution_count": 2,
   "id": "75133b7a",
   "metadata": {},
   "outputs": [],
   "source": [
    "# 2. Define user-specified claim(s)\n",
    "user_claims = pd.DataFrame([{\n",
    "    \"age\": 34,\n",
    "    \"months_as_customer\": 48,\n",
    "    \"vehicle_age_years\": 4,\n",
    "    \"vehicle_make\": \"Perodua Myvi\",\n",
    "    \"policy_expired_flag\": 0,\n",
    "    \"deductible_amount\": 500.0,\n",
    "    \"market_value\": 28000.0,\n",
    "    \"damage_severity_score\": 0.35,\n",
    "    \"repair_amount\": 9000.0,\n",
    "    \"at_fault_flag\": 0,\n",
    "    \"time_to_report_days\": 3,\n",
    "    \"claim_reported_to_police_flag\": 1,\n",
    "    \"license_type_missing_flag\": 0,\n",
    "    \"num_third_parties\": 1,\n",
    "    \"num_witnesses\": 2\n",
    "}])"
   ]
  },
  {
   "cell_type": "code",
   "execution_count": 3,
   "id": "455fb693",
   "metadata": {},
   "outputs": [
    {
     "name": "stdout",
     "output_type": "stream",
     "text": [
      "Approval prediction: 1 (prob=1.000)\n"
     ]
    }
   ],
   "source": [
    " import numpy as np\n",
    "\n",
    "# 1. Predict approval\n",
    "approval_pred = approval_model.predict(user_claims)              # array([0] or [1])\n",
    "approval_prob = approval_model.predict_proba(user_claims)[:, 1]  # P(approve)\n",
    "\n",
    "print(f\"Approval prediction: {approval_pred[0]} (prob={approval_prob[0]:.3f})\")"
   ]
  },
  {
   "cell_type": "code",
   "execution_count": 4,
   "id": "88f8c166",
   "metadata": {},
   "outputs": [
    {
     "name": "stdout",
     "output_type": "stream",
     "text": [
      "Predicted coverage amount: 12,955.98\n"
     ]
    }
   ],
   "source": [
    "# 2. If approved (==1), predict coverage; otherwise skip\n",
    "if approval_pred[0] == 1:\n",
    "    coverage_pred = coverage_model.predict(user_claims)         # continuous coverage_amount\n",
    "    print(f\"Predicted coverage amount: {coverage_pred[0]:,.2f}\")\n",
    "else:\n",
    "    coverage_pred = None\n",
    "    print(\"Claim not approved → no coverage prediction\")"
   ]
  },
  {
   "cell_type": "code",
   "execution_count": 5,
   "id": "d41d5744",
   "metadata": {},
   "outputs": [
    {
     "name": "stdout",
     "output_type": "stream",
     "text": [
      "Anomaly score: 0.192\n",
      "Anomaly flag: 0  (1 = anomaly)\n"
     ]
    }
   ],
   "source": [
    "# 3. Always check for anomaly on the claim features\n",
    "#    IsolationForest.predict → -1 = anomaly, 1 = normal\n",
    "anomaly_scores = anomaly_model.decision_function(user_claims)   # higher → more “normal”\n",
    "anomaly_flag = anomaly_model.predict(user_claims)               # -1 or 1\n",
    "is_anomaly = np.where(anomaly_flag == -1, 1, 0)                 # convert to 0/1\n",
    "\n",
    "print(f\"Anomaly score: {anomaly_scores[0]:.3f}\")\n",
    "print(f\"Anomaly flag: {is_anomaly[0]}  (1 = anomaly)\")"
   ]
  }
 ],
 "metadata": {
  "kernelspec": {
   "display_name": "Python 3 (ipykernel)",
   "language": "python",
   "name": "python3"
  },
  "language_info": {
   "codemirror_mode": {
    "name": "ipython",
    "version": 3
   },
   "file_extension": ".py",
   "mimetype": "text/x-python",
   "name": "python",
   "nbconvert_exporter": "python",
   "pygments_lexer": "ipython3",
   "version": "3.9.11"
  }
 },
 "nbformat": 4,
 "nbformat_minor": 5
}
